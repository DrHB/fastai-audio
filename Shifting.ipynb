{
 "cells": [
  {
   "cell_type": "markdown",
   "metadata": {},
   "source": [
    "# Shift Transformation"
   ]
  },
  {
   "cell_type": "code",
   "execution_count": 1,
   "metadata": {},
   "outputs": [],
   "source": [
    "## Notebook settings\n",
    "%reload_ext autoreload\n",
    "%autoreload 2\n",
    "%matplotlib inline"
   ]
  },
  {
   "cell_type": "code",
   "execution_count": 3,
   "metadata": {},
   "outputs": [],
   "source": [
    "## fastai imports\n",
    "from fastai.basics import *\n",
    "from fastai.data_block import ItemList\n",
    "from fastai.vision import *\n",
    "from exp.nb_AudioCommon import *\n",
    "from exp.nb_DataBlock import *\n",
    "from exp.nb_DataAugmentation import *"
   ]
  },
  {
   "cell_type": "code",
   "execution_count": 10,
   "metadata": {},
   "outputs": [
    {
     "data": {
      "text/plain": [
       "PosixPath('/home/h/.fastai/data/ST-AEDS-20180100_1-OS/ST-AEDS-20180100_1-OS')"
      ]
     },
     "execution_count": 10,
     "metadata": {},
     "output_type": "execute_result"
    }
   ],
   "source": [
    "## The actual url is http://www.openslr.org/resources/45/ST-AEDS-20180100_1-OS.tgz\n",
    "## but we need to strip off the extension otherwise fastai gets confused.\n",
    "data_url = 'http://www.openslr.org/resources/45/ST-AEDS-20180100_1-OS'\n",
    "## Need this because the source tar file doesn't extract to its own folder\n",
    "data_folder = datapath4file(url2name(data_url))\n",
    "untar_data(data_url, dest=data_folder)"
   ]
  },
  {
   "cell_type": "code",
   "execution_count": 41,
   "metadata": {},
   "outputs": [
    {
     "data": {
      "text/plain": [
       "AudioList (3842 items)\n",
       "AudioItem: 4.68sec (74880 @ 16000hz).,AudioItem: 3.08sec (49280 @ 16000hz).,AudioItem: 2.64sec (42240 @ 16000hz).,AudioItem: 2.56sec (40960 @ 16000hz).,AudioItem: 2.52sec (40320 @ 16000hz).\n",
       "Path: /home/h/.fastai/data/ST-AEDS-20180100_1-OS"
      ]
     },
     "execution_count": 41,
     "metadata": {},
     "output_type": "execute_result"
    }
   ],
   "source": [
    "audios = AudioList.from_folder(data_folder, use_spectro=True, cache_spectro=True, to_db_scale=True); audios"
   ]
  },
  {
   "cell_type": "code",
   "execution_count": 43,
   "metadata": {},
   "outputs": [
    {
     "data": {
      "text/plain": [
       "160000"
      ]
     },
     "execution_count": 43,
     "metadata": {},
     "output_type": "execute_result"
    },
    {
     "data": {
      "image/png": "[encoded data removed]",
      "text/plain": [
       "<Figure size 432x288 with 1 Axes>"
      ]
     },
     "metadata": {
      "needs_background": "light"
     },
     "output_type": "display_data"
    }
   ],
   "source": [
    "audio_lengths = tensor([a.ad.sig.shape[0] for a in audios])\n",
    "plt.hist(audio_lengths);\n",
    "audio_lengths.max().item()"
   ]
  },
  {
   "cell_type": "code",
   "execution_count": 44,
   "metadata": {},
   "outputs": [],
   "source": [
    "def make_learner(data):\n",
    "    newlayer = nn.Conv2d(1, 64, kernel_size=(7, 7), stride=(2, 2), padding=(3, 3), bias=False)\n",
    "    newlayer = newlayer.cuda() # Our layer should use cuda, since the rest of the model will.\n",
    "    ## Standard learner\n",
    "    learn = cnn_learner(data, models.resnet50, metrics=accuracy)\n",
    "    ## Replace the first layer in the resnet18 model with our first layer\n",
    "    learn.model[0][0] = newlayer\n",
    "    learn.unfreeze()\n",
    "    return learn"
   ]
  },
  {
   "cell_type": "code",
   "execution_count": 45,
   "metadata": {},
   "outputs": [],
   "source": [
    "## Regex to get the speaker ID in our file name (our label)\n",
    "label_pattern = r'_([mf]\\d+)_'\n",
    "bs = 55\n",
    "label_data = (audios\n",
    "        .split_by_rand_pct(0.2, seed=2)\n",
    "        .label_from_re(label_pattern)\n",
    " )"
   ]
  },
  {
   "cell_type": "code",
   "execution_count": 46,
   "metadata": {},
   "outputs": [],
   "source": [
    "def tfms_sr(resample_rate):\n",
    "    return get_audio_transforms(resample_rate=resample_rate,\n",
    "                            spectro=True,\n",
    "                            mx_to_pad=100000,\n",
    "                            white_noise=False,\n",
    "                            modulate_volume=False,\n",
    "                            random_cutout=False,\n",
    "                            pad_with_silence=False,\n",
    "                            pitch_warp=False,\n",
    "                            down_and_up=False,\n",
    "                            shift_max_pct=.6,\n",
    "                            to_db_scale=True,\n",
    "    )"
   ]
  },
  {
   "cell_type": "code",
   "execution_count": 30,
   "metadata": {},
   "outputs": [
    {
     "ename": "NameError",
     "evalue": "name 'tfms_sr' is not defined",
     "output_type": "error",
     "traceback": [
      "\u001b[0;31m---------------------------------------------------------------------------\u001b[0m",
      "\u001b[0;31mNameError\u001b[0m                                 Traceback (most recent call last)",
      "\u001b[0;32m<ipython-input-30-5f396d7ab92a>\u001b[0m in \u001b[0;36m<module>\u001b[0;34m\u001b[0m\n\u001b[0;32m----> 1\u001b[0;31m \u001b[0mtfms\u001b[0m \u001b[0;34m=\u001b[0m \u001b[0mtfms_sr\u001b[0m\u001b[0;34m(\u001b[0m\u001b[0;32mNone\u001b[0m\u001b[0;34m)\u001b[0m\u001b[0;34m\u001b[0m\u001b[0;34m\u001b[0m\u001b[0m\n\u001b[0m\u001b[1;32m      2\u001b[0m \u001b[0mdb\u001b[0m \u001b[0;34m=\u001b[0m \u001b[0mlabel_data\u001b[0m\u001b[0;34m.\u001b[0m\u001b[0mtransform\u001b[0m\u001b[0;34m(\u001b[0m\u001b[0mtfms\u001b[0m\u001b[0;34m)\u001b[0m\u001b[0;34m.\u001b[0m\u001b[0mdatabunch\u001b[0m\u001b[0;34m(\u001b[0m\u001b[0mbs\u001b[0m\u001b[0;34m=\u001b[0m\u001b[0mbs\u001b[0m\u001b[0;34m)\u001b[0m\u001b[0;34m\u001b[0m\u001b[0;34m\u001b[0m\u001b[0m\n\u001b[1;32m      3\u001b[0m \u001b[0mdb\u001b[0m\u001b[0;34m.\u001b[0m\u001b[0mtrain_ds\u001b[0m\u001b[0;34m[\u001b[0m\u001b[0;36m1\u001b[0m\u001b[0;34m]\u001b[0m\u001b[0;34m[\u001b[0m\u001b[0;36m0\u001b[0m\u001b[0;34m]\u001b[0m\u001b[0;34m.\u001b[0m\u001b[0mshow\u001b[0m\u001b[0;34m(\u001b[0m\u001b[0;34m)\u001b[0m\u001b[0;34m\u001b[0m\u001b[0;34m\u001b[0m\u001b[0m\n",
      "\u001b[0;31mNameError\u001b[0m: name 'tfms_sr' is not defined"
     ]
    }
   ],
   "source": [
    "tfms = tfms_sr(None)\n",
    "db = label_data.transform(tfms).databunch(bs=bs)\n",
    "db.train_ds[1][0].show()"
   ]
  },
  {
   "cell_type": "code",
   "execution_count": null,
   "metadata": {},
   "outputs": [],
   "source": [
    "learn = make_learner(db)\n",
    "learn.lr_find()\n",
    "learn.recorder.plot()"
   ]
  },
  {
   "cell_type": "code",
   "execution_count": null,
   "metadata": {
    "scrolled": true
   },
   "outputs": [],
   "source": [
    "learn.fit_one_cycle(15, slice(1e-4, 4e-3))"
   ]
  },
  {
   "cell_type": "code",
   "execution_count": null,
   "metadata": {},
   "outputs": [],
   "source": [
    "interp = ClassificationInterpretation.from_learner(learn)\n",
    "interp.plot_confusion_matrix()\n",
    "interp.most_confused()"
   ]
  }
 ],
 "metadata": {
  "kernelspec": {
   "display_name": "Python 3",
   "language": "python",
   "name": "python3"
  },
  "language_info": {
   "codemirror_mode": {
    "name": "ipython",
    "version": 3
   },
   "file_extension": ".py",
   "mimetype": "text/x-python",
   "name": "python",
   "nbconvert_exporter": "python",
   "pygments_lexer": "ipython3",
   "version": "3.7.2"
  }
 },
 "nbformat": 4,
 "nbformat_minor": 2
}
